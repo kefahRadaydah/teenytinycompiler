{
 "cells": [
  {
   "cell_type": "code",
   "execution_count": 1,
   "id": "84450ae8",
   "metadata": {},
   "outputs": [
    {
     "name": "stdout",
     "output_type": "stream",
     "text": [
      "Teeny Tiny Compiler\n",
      "Please enter name of your file:lex.txt\n",
      "PROGRAM\n",
      "EXPRESSION\n",
      "TERM\n",
      "UNARY\n",
      "PRIMARY (3)\n",
      "Operator- PLUS\n",
      "TERM\n",
      "UNARY\n",
      "PRIMARY (2)\n",
      "NEWLINE\n",
      "STATEMENT-IF\n",
      "COMPARISON\n",
      "EXPRESSION\n",
      "TERM\n",
      "UNARY\n",
      "PRIMARY (foo)\n",
      "Comparison Operator- GT\n",
      "EXPRESSION\n",
      "TERM\n",
      "UNARY\n",
      "PRIMARY (0)\n",
      "NEWLINE\n",
      "STATEMENT-IF\n",
      "COMPARISON\n",
      "EXPRESSION\n",
      "TERM\n",
      "UNARY\n",
      "PRIMARY (10)\n",
      "Operator- ASTERISK\n",
      "UNARY\n",
      "PRIMARY (10)\n",
      "Comparison Operator- LT\n",
      "EXPRESSION\n",
      "TERM\n",
      "UNARY\n",
      "PRIMARY (100)\n",
      "NEWLINE\n",
      "NEWLINE\n",
      "NEWLINE\n",
      "Parsing completed.\n"
     ]
    }
   ],
   "source": [
    "from scan import *\n",
    "from parse import *\n",
    "\n",
    " \n",
    "def main():\n",
    "    print(\"Teeny Tiny Compiler\")\n",
    "    File = input(\"Please enter name of your file:\")\n",
    "    df = open(File, 'r')\n",
    "    \n",
    "    # Initialize the lexer and parser.\n",
    "    lexer = Scanner(df.read())\n",
    "    parser = Parser(lexer)\n",
    "\n",
    "    parser.program() # Start the parser.\n",
    "    print(\"Parsing completed.\")\n",
    "\n",
    "main()"
   ]
  },
  {
   "cell_type": "code",
   "execution_count": null,
   "id": "46c69ace",
   "metadata": {},
   "outputs": [],
   "source": []
  }
 ],
 "metadata": {
  "kernelspec": {
   "display_name": "Python 3",
   "language": "python",
   "name": "python3"
  },
  "language_info": {
   "codemirror_mode": {
    "name": "ipython",
    "version": 3
   },
   "file_extension": ".py",
   "mimetype": "text/x-python",
   "name": "python",
   "nbconvert_exporter": "python",
   "pygments_lexer": "ipython3",
   "version": "3.8.8"
  }
 },
 "nbformat": 4,
 "nbformat_minor": 5
}
