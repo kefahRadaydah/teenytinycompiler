{
 "cells": [
  {
   "cell_type": "code",
   "execution_count": 5,
   "id": "659a0775",
   "metadata": {},
   "outputs": [],
   "source": [
    "import pandas as pd\n",
    "from scan import *\n",
    "def main():\n",
    "    File = input(\"Please enter name of your file:\")\n",
    "    df = open(File, 'r')\n",
    "    lexer = Scanner(df.read())\n",
    "    \n",
    "    token = lexer.getToken()\n",
    "    while token.type != TOKEN.EOF:\n",
    "        print(token.type)\n",
    "        token = lexer.getToken()\n",
    "        "
   ]
  },
  {
   "cell_type": "code",
   "execution_count": null,
   "id": "0bab9812",
   "metadata": {},
   "outputs": [],
   "source": [
    "main()"
   ]
  },
  {
   "cell_type": "code",
   "execution_count": null,
   "id": "e970ec15",
   "metadata": {},
   "outputs": [],
   "source": []
  }
 ],
 "metadata": {
  "kernelspec": {
   "display_name": "Python 3",
   "language": "python",
   "name": "python3"
  },
  "language_info": {
   "codemirror_mode": {
    "name": "ipython",
    "version": 3
   },
   "file_extension": ".py",
   "mimetype": "text/x-python",
   "name": "python",
   "nbconvert_exporter": "python",
   "pygments_lexer": "ipython3",
   "version": "3.8.8"
  }
 },
 "nbformat": 4,
 "nbformat_minor": 5
}
